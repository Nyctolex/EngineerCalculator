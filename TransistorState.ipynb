{
 "cells": [
  {
   "cell_type": "code",
   "execution_count": 1,
   "id": "523ebf59",
   "metadata": {},
   "outputs": [],
   "source": [
    "import sympy as sp\n",
    "from sympy import solve, pretty, Eq, simplify, expand\n",
    "from sympy.interactive import printing\n",
    "printing.init_printing(use_latex=True)\n",
    "from IPython.display import Math\n",
    "from sympy.interactive import printing\n",
    "from IPython.display import display, Math, Latex\n",
    "eqprint = lambda eq:display(Math(printing.default_latex(eq)))\n",
    "oneside = lambda eq: sp.Eq((eq.rhs - eq.lhs),0)\n",
    "diff_eq = lambda eq, x: sp.Eq(eq.lhs.diff(x), eq.rhs.diff(x))"
   ]
  },
  {
   "cell_type": "markdown",
   "id": "6bfdc3f0",
   "metadata": {},
   "source": [
    "# Example equations"
   ]
  },
  {
   "cell_type": "code",
   "execution_count": 15,
   "id": "76b6150e",
   "metadata": {},
   "outputs": [],
   "source": [
    "x = sp.symbols('x')\n",
    "y = sp.Function('y')(x)\n",
    "linear = lambda k,vt, vg, vs, vd: k*(2*(vg- vs -vt)*(vd-vs) -(vd-vs)**2)\n",
    "sat = lambda k, vt, vg, vs, vd: k*((vg-vs-vt)**2)\n",
    "cut = lambda k, vt, vg, vs, vd: 0"
   ]
  },
  {
   "cell_type": "code",
   "execution_count": 174,
   "id": "4c1228c5",
   "metadata": {},
   "outputs": [],
   "source": [
    "def mos_state(k, vt, vg, vs, vd, x, y, x_val, y_val, nmos=True, show_way=True, name=\"\"):\n",
    "    vgs = vg-vs\n",
    "    vds = vd-vs\n",
    "    if show_way:\n",
    "        print(name, \"vgs:\")\n",
    "        eqprint(vgs)\n",
    "        print(name, \"vds:\")\n",
    "        eqprint(vds)\n",
    "    \n",
    "    if type(vgs) != int and type(vgs) != float :\n",
    "        vgs = vgs.subs({x: x_val, y: y_val})\n",
    "    \n",
    "    if type(vds) != int and type(vds) != float:\n",
    "        vds = vds.subs({x: x_val, y: y_val})\n",
    "    if show_way:\n",
    "        print(name, \"vgs:\\n\")\n",
    "        eqprint(vgs)\n",
    "        print(name, \"vds:\\n\")\n",
    "        eqprint(vds)\n",
    "    vgs = round(vgs, 4)\n",
    "    vds = round(vds, 4)\n",
    "    if nmos:\n",
    "        if vgs == vt:\n",
    "            return \"cutoff/sat\"\n",
    "        if vgs < vt:\n",
    "            return \"cutoff\"\n",
    "        if (vds > (vgs - vt)) :\n",
    "            return \"Sat\"\n",
    "        return \"lin\"\n",
    "    else:\n",
    "        if vgs == vt:\n",
    "            return \"cutoff/sat\"\n",
    "        if vgs > vt:\n",
    "            return \"cutoff\"\n",
    "        if (vds< (vgs-vt)):\n",
    "            return \"sat\"\n",
    "        return \"lin\"\n",
    "        "
   ]
  },
  {
   "cell_type": "code",
   "execution_count": 68,
   "id": "4705cc74",
   "metadata": {},
   "outputs": [],
   "source": [
    "vgp = x\n",
    "vsp = 5\n",
    "vdp = y\n",
    "\n",
    "vgn = x\n",
    "vsn = 0\n",
    "vdn = y"
   ]
  },
  {
   "cell_type": "code",
   "execution_count": 152,
   "id": "a821813e",
   "metadata": {},
   "outputs": [],
   "source": [
    "def solve_vm(ex1, ex2, x, y, show_way=False):\n",
    "    if (show_way):\n",
    "        eqprint(Eq(ex1, ex2))\n",
    "    if type(ex1) != int and type(ex1) != float :\n",
    "        ex1 = ex1.subs({y: x})\n",
    "    \n",
    "    if type(ex2) != int and type(ex2) != float:\n",
    "        ex2 = ex2.subs({y: x})\n",
    "    sol = solve(Eq(ex1, ex2), x)\n",
    "    if (show_way):\n",
    "        eqprint(Eq(ex1, ex2))\n",
    "        eqprint(Eq(expand(ex1-ex2), 0))\n",
    "        eqprint(sol)\n",
    "        for sub_sol in sol:\n",
    "            print('sol:' + str(sub_sol.evalf()))\n",
    "    return sol"
   ]
  },
  {
   "cell_type": "code",
   "execution_count": 70,
   "id": "4a43a0f7",
   "metadata": {},
   "outputs": [],
   "source": [
    "def solve_in(ex1, ex2, x, y, show_way=False):\n",
    "    dif_and_sub = lambda ex, x, y: ex.diff(x).subs(y.diff(x), -1)\n",
    "    eq1 = Eq(ex1, ex2)\n",
    "    diffeq1 = diff_eq(eq1, x)\n",
    "    #     eq2 = Eq(dif_and_sub(ex1, x, y), dif_and_sub(ex2, x, y))\n",
    "    eq2 = diffeq1.subs(y.diff(x), -1)\n",
    "    sol = solve([eq1, eq2], (x, y))\n",
    "    if (show_way):\n",
    "        print(\"eq1:\")\n",
    "        eqprint(eq1)\n",
    "        eqprint(eq1.expand())\n",
    "        eqprint(oneside(eq1).expand())\n",
    "        print(\"eq2:\")\n",
    "        eqprint(diff_eq(oneside(eq1).expand(), x))\n",
    "        eqprint(eq2.expand())\n",
    "        x_eval = solve((eq2), (x, y))[0][0]\n",
    "        eqprint(Eq(x, x_eval))\n",
    "        eqprint(sol)\n",
    "        for sub_sol in sol:\n",
    "            x_val, y_val = sub_sol\n",
    "            print('   x={0} \\n y={1}'.format(x_val.evalf(), y_val.evalf()))\n",
    "        \n",
    "        \n",
    "    return sol"
   ]
  },
  {
   "cell_type": "markdown",
   "id": "d7ac008c",
   "metadata": {},
   "source": [
    "# VIL"
   ]
  },
  {
   "cell_type": "code",
   "execution_count": 174,
   "id": "64f06b8c",
   "metadata": {},
   "outputs": [
    {
     "name": "stdout",
     "output_type": "stream",
     "text": [
      "eq1:\n"
     ]
    },
    {
     "data": {
      "text/latex": [
       "$\\displaystyle 20 \\left(2 x - 8\\right) \\left(y{\\left(x \\right)} - 5\\right) - 20 \\left(y{\\left(x \\right)} - 5\\right)^{2} = 9 \\left(x - 1\\right)^{2}$"
      ],
      "text/plain": [
       "<IPython.core.display.Math object>"
      ]
     },
     "metadata": {},
     "output_type": "display_data"
    },
    {
     "data": {
      "text/latex": [
       "$\\displaystyle 40 x y{\\left(x \\right)} - 200 x - 20 y^{2}{\\left(x \\right)} + 40 y{\\left(x \\right)} + 300 = 9 x^{2} - 18 x + 9$"
      ],
      "text/plain": [
       "<IPython.core.display.Math object>"
      ]
     },
     "metadata": {},
     "output_type": "display_data"
    },
    {
     "data": {
      "text/latex": [
       "$\\displaystyle 9 x^{2} - 40 x y{\\left(x \\right)} + 182 x + 20 y^{2}{\\left(x \\right)} - 40 y{\\left(x \\right)} - 291 = 0$"
      ],
      "text/plain": [
       "<IPython.core.display.Math object>"
      ]
     },
     "metadata": {},
     "output_type": "display_data"
    },
    {
     "name": "stdout",
     "output_type": "stream",
     "text": [
      "eq2:\n"
     ]
    },
    {
     "data": {
      "text/latex": [
       "$\\displaystyle - 40 x \\frac{d}{d x} y{\\left(x \\right)} + 18 x + 40 y{\\left(x \\right)} \\frac{d}{d x} y{\\left(x \\right)} - 40 y{\\left(x \\right)} - 40 \\frac{d}{d x} y{\\left(x \\right)} + 182 = 0$"
      ],
      "text/plain": [
       "<IPython.core.display.Math object>"
      ]
     },
     "metadata": {},
     "output_type": "display_data"
    },
    {
     "data": {
      "text/latex": [
       "$\\displaystyle - 40 x + 80 y{\\left(x \\right)} - 240 = 18 x - 18$"
      ],
      "text/plain": [
       "<IPython.core.display.Math object>"
      ]
     },
     "metadata": {},
     "output_type": "display_data"
    },
    {
     "data": {
      "text/latex": [
       "$\\displaystyle x = \\frac{40 y{\\left(x \\right)}}{29} - \\frac{111}{29}$"
      ],
      "text/plain": [
       "<IPython.core.display.Math object>"
      ]
     },
     "metadata": {},
     "output_type": "display_data"
    },
    {
     "data": {
      "text/latex": [
       "$\\displaystyle \\left[ \\left( \\frac{71}{11} - \\frac{120 \\sqrt{69}}{253}, \\  \\frac{82}{11} - \\frac{87 \\sqrt{69}}{253}\\right), \\  \\left( \\frac{120 \\sqrt{69}}{253} + \\frac{71}{11}, \\  \\frac{87 \\sqrt{69}}{253} + \\frac{82}{11}\\right)\\right]$"
      ],
      "text/plain": [
       "<IPython.core.display.Math object>"
      ]
     },
     "metadata": {},
     "output_type": "display_data"
    },
    {
     "name": "stdout",
     "output_type": "stream",
     "text": [
      "   x=2.51464480810210 \n",
      " y=4.59811748587402\n",
      "   x=10.3944461009888 \n",
      " y=10.3109734232169\n"
     ]
    },
    {
     "data": {
      "image/png": "[encoded data removed]",
      "text/latex": [
       "$\\displaystyle \\left[ \\left( \\frac{71}{11} - \\frac{120 \\sqrt{69}}{253}, \\  \\frac{82}{11} - \\frac{87 \\sqrt{69}}{253}\\right), \\  \\left( \\frac{120 \\sqrt{69}}{253} + \\frac{71}{11}, \\  \\frac{87 \\sqrt{69}}{253} + \\frac{82}{11}\\right)\\right]$"
      ],
      "text/plain": [
       "⎡⎛71   120⋅√69  82   87⋅√69⎞  ⎛120⋅√69   71  87⋅√69   82⎞⎤\n",
       "⎢⎜── - ───────, ── - ──────⎟, ⎜─────── + ──, ────── + ──⎟⎥\n",
       "⎣⎝11     253    11    253  ⎠  ⎝  253     11   253     11⎠⎦"
      ]
     },
     "execution_count": 174,
     "metadata": {},
     "output_type": "execute_result"
    }
   ],
   "source": [
    "kn = 9\n",
    "kp = 20\n",
    "ex1 = linear(kp,-1, vgp, vsp, vdp )#pmos in linear\n",
    "ex2 = sat(kn, 1, vgn, vsn, vdn)#nmos in saturation\n",
    "solve_in(ex1, ex2, x, y, show_way=True)"
   ]
  },
  {
   "cell_type": "markdown",
   "id": "378cd56b",
   "metadata": {},
   "source": [
    "# VIH"
   ]
  },
  {
   "cell_type": "code",
   "execution_count": 87,
   "id": "a5c93744",
   "metadata": {},
   "outputs": [
    {
     "name": "stdout",
     "output_type": "stream",
     "text": [
      "eq1:\n"
     ]
    },
    {
     "data": {
      "text/latex": [
       "$\\displaystyle 20 \\left(x - 4\\right)^{2} = 9 \\left(2 x - 2\\right) y{\\left(x \\right)} - 9 y^{2}{\\left(x \\right)}$"
      ],
      "text/plain": [
       "<IPython.core.display.Math object>"
      ]
     },
     "metadata": {},
     "output_type": "display_data"
    },
    {
     "data": {
      "text/latex": [
       "$\\displaystyle 20 x^{2} - 160 x + 320 = 18 x y{\\left(x \\right)} - 9 y^{2}{\\left(x \\right)} - 18 y{\\left(x \\right)}$"
      ],
      "text/plain": [
       "<IPython.core.display.Math object>"
      ]
     },
     "metadata": {},
     "output_type": "display_data"
    },
    {
     "data": {
      "text/latex": [
       "$\\displaystyle - 20 x^{2} + 18 x y{\\left(x \\right)} + 160 x - 9 y^{2}{\\left(x \\right)} - 18 y{\\left(x \\right)} - 320 = 0$"
      ],
      "text/plain": [
       "<IPython.core.display.Math object>"
      ]
     },
     "metadata": {},
     "output_type": "display_data"
    },
    {
     "name": "stdout",
     "output_type": "stream",
     "text": [
      "eq2:\n"
     ]
    },
    {
     "data": {
      "text/latex": [
       "$\\displaystyle 18 x \\frac{d}{d x} y{\\left(x \\right)} - 40 x - 18 y{\\left(x \\right)} \\frac{d}{d x} y{\\left(x \\right)} + 18 y{\\left(x \\right)} - 18 \\frac{d}{d x} y{\\left(x \\right)} + 160 = 0$"
      ],
      "text/plain": [
       "<IPython.core.display.Math object>"
      ]
     },
     "metadata": {},
     "output_type": "display_data"
    },
    {
     "data": {
      "text/latex": [
       "$\\displaystyle 40 x - 160 = - 18 x + 36 y{\\left(x \\right)} + 18$"
      ],
      "text/plain": [
       "<IPython.core.display.Math object>"
      ]
     },
     "metadata": {},
     "output_type": "display_data"
    },
    {
     "data": {
      "text/latex": [
       "$\\displaystyle x = \\frac{18 y{\\left(x \\right)}}{29} + \\frac{89}{29}$"
      ],
      "text/plain": [
       "<IPython.core.display.Math object>"
      ]
     },
     "metadata": {},
     "output_type": "display_data"
    },
    {
     "data": {
      "text/latex": [
       "$\\displaystyle \\left[ \\left( \\frac{71}{11} - \\frac{108 \\sqrt{235}}{517}, \\  \\frac{60}{11} - \\frac{174 \\sqrt{235}}{517}\\right), \\  \\left( \\frac{108 \\sqrt{235}}{517} + \\frac{71}{11}, \\  \\frac{174 \\sqrt{235}}{517} + \\frac{60}{11}\\right)\\right]$"
      ],
      "text/plain": [
       "<IPython.core.display.Math object>"
      ]
     },
     "metadata": {},
     "output_type": "display_data"
    },
    {
     "name": "stdout",
     "output_type": "stream",
     "text": [
      "   x=3.25220764137401 \n",
      " y=0.295223422213684\n",
      "   x=9.65688326771690 \n",
      " y=10.6138674868772\n"
     ]
    },
    {
     "data": {
      "image/png": "[encoded data removed]",
      "text/latex": [
       "$\\displaystyle \\left[ \\left( \\frac{71}{11} - \\frac{108 \\sqrt{235}}{517}, \\  \\frac{60}{11} - \\frac{174 \\sqrt{235}}{517}\\right), \\  \\left( \\frac{108 \\sqrt{235}}{517} + \\frac{71}{11}, \\  \\frac{174 \\sqrt{235}}{517} + \\frac{60}{11}\\right)\\right]$"
      ],
      "text/plain": [
       "⎡⎛71   108⋅√235  60   174⋅√235⎞  ⎛108⋅√235   71  174⋅√235   60⎞⎤\n",
       "⎢⎜── - ────────, ── - ────────⎟, ⎜──────── + ──, ──────── + ──⎟⎥\n",
       "⎣⎝11     517     11     517   ⎠  ⎝  517      11    517      11⎠⎦"
      ]
     },
     "execution_count": 87,
     "metadata": {},
     "output_type": "execute_result"
    }
   ],
   "source": [
    "kn = 9\n",
    "kp = 20\n",
    "ex1 = sat(kp, -1, vgp, vsp, vdp )#pmos in\n",
    "ex2 = linear(kn,1, vgn, vsn, vdn )#nmos in\n",
    "\n",
    "solve_in(ex1, ex2, x, y, show_way=True)"
   ]
  },
  {
   "cell_type": "markdown",
   "id": "c5ce0798",
   "metadata": {},
   "source": [
    "# VM"
   ]
  },
  {
   "cell_type": "code",
   "execution_count": 88,
   "id": "4778fde9",
   "metadata": {},
   "outputs": [
    {
     "data": {
      "text/latex": [
       "$\\displaystyle - 20 \\left(x - 5\\right)^{2} + 20 \\left(x - 5\\right) \\left(2 x - 8\\right) = - 9 x^{2} + 9 x \\left(2 x - 2\\right)$"
      ],
      "text/plain": [
       "<IPython.core.display.Math object>"
      ]
     },
     "metadata": {},
     "output_type": "display_data"
    },
    {
     "data": {
      "text/latex": [
       "$\\displaystyle 11 x^{2} - 142 x + 300 = 0$"
      ],
      "text/plain": [
       "<IPython.core.display.Math object>"
      ]
     },
     "metadata": {},
     "output_type": "display_data"
    },
    {
     "data": {
      "text/latex": [
       "$\\displaystyle \\left[ \\frac{71}{11} - \\frac{\\sqrt{1741}}{11}, \\  \\frac{\\sqrt{1741}}{11} + \\frac{71}{11}\\right]$"
      ],
      "text/plain": [
       "<IPython.core.display.Math object>"
      ]
     },
     "metadata": {},
     "output_type": "display_data"
    },
    {
     "name": "stdout",
     "output_type": "stream",
     "text": [
      "sol:2.66133708272272\n",
      "sol:10.2477538263682\n"
     ]
    },
    {
     "data": {
      "image/png": "[encoded data removed]",
      "text/latex": [
       "$\\displaystyle \\left[ \\frac{71}{11} - \\frac{\\sqrt{1741}}{11}, \\  \\frac{\\sqrt{1741}}{11} + \\frac{71}{11}\\right]$"
      ],
      "text/plain": [
       "⎡71   √1741  √1741   71⎤\n",
       "⎢── - ─────, ───── + ──⎥\n",
       "⎣11     11     11    11⎦"
      ]
     },
     "execution_count": 88,
     "metadata": {},
     "output_type": "execute_result"
    }
   ],
   "source": [
    "kn = 9\n",
    "kp = 20\n",
    "y = x\n",
    "vgp = x\n",
    "vsp = 5\n",
    "vdp = y\n",
    "\n",
    "vgn = x\n",
    "vsn = 0\n",
    "vdn = y\n",
    "ex1 = linear(kp, -1, vgp, vsp, vdp )#pmos in\n",
    "ex2 = linear(kn,1, vgn, vsn, vdn )#nmos in\n",
    "solve_vm(ex1, ex2, x, y, show_way=True)"
   ]
  },
  {
   "cell_type": "markdown",
   "id": "6ddb2c08",
   "metadata": {},
   "source": [
    "# Q2"
   ]
  },
  {
   "cell_type": "code",
   "execution_count": 10,
   "id": "dce2dff2",
   "metadata": {},
   "outputs": [],
   "source": [
    "x = sp.symbols('x')\n",
    "y = sp.Function('y')(x)\n",
    "y = 2.5\n",
    "vgp = x\n",
    "vsp = 5\n",
    "vdp = y\n",
    "\n",
    "vgn = x\n",
    "vsn = 0\n",
    "vdn = y"
   ]
  },
  {
   "cell_type": "code",
   "execution_count": 11,
   "id": "63875e60",
   "metadata": {},
   "outputs": [
    {
     "name": "stdout",
     "output_type": "stream",
     "text": [
      "[2.36578947368421]\n"
     ]
    },
    {
     "data": {
      "image/png": "[encoded data removed]",
      "text/latex": [
       "$\\displaystyle 0.00068625 - 0.000225 x$"
      ],
      "text/plain": [
       "0.00068625 - 0.000225⋅x"
      ]
     },
     "execution_count": 11,
     "metadata": {},
     "output_type": "execute_result"
    }
   ],
   "source": [
    "kn = 50e-6\n",
    "kp = 45e-6\n",
    "vtn = 0.5\n",
    "vtp = -0.7\n",
    "ex1 = linear(kp, vtp, vgp, vsp, vdp )#pmos \n",
    "ex2 = linear(kn,vtn, vgn, vsn, vdn )#nmos\n",
    "sol = solve(ex1 - ex2, x)\n",
    "print(sol)\n",
    "ex1"
   ]
  },
  {
   "cell_type": "code",
   "execution_count": 12,
   "id": "862c0d67",
   "metadata": {},
   "outputs": [
    {
     "data": {
      "image/png": "[encoded data removed]",
      "text/latex": [
       "$\\displaystyle 0.583223684210526$"
      ],
      "text/plain": [
       "0.583223684210526"
      ]
     },
     "execution_count": 12,
     "metadata": {},
     "output_type": "execute_result"
    }
   ],
   "source": [
    "y = 2.5\n",
    "x = sol[0]\n",
    "vgp = x\n",
    "vsp = 5\n",
    "vdp = y\n",
    "\n",
    "vgn = x\n",
    "vsn = 0\n",
    "vdn = y\n",
    "\n",
    "IL = linear(kn,vtn, vgn, vsn, vdn )\n",
    "IS = sat(kn,vtn, 5, 0, 0 )\n",
    "1e3*((IL+IS)/2)\n",
    "# (linear(kn,vtn, vgn, vsn, vdn )+kn*0.5**2)/2#nmos"
   ]
  },
  {
   "cell_type": "code",
   "execution_count": 13,
   "id": "fbd43f32",
   "metadata": {},
   "outputs": [
    {
     "data": {
      "image/png": "[encoded data removed]",
      "text/latex": [
       "$\\displaystyle 0.492998684210526$"
      ],
      "text/plain": [
       "0.492998684210526"
      ]
     },
     "execution_count": 13,
     "metadata": {},
     "output_type": "execute_result"
    }
   ],
   "source": [
    "IL = linear(kp,vtp, vgp, vsp, vdp )\n",
    "IS = sat(kp,vtp, 0, 5, 5 )\n",
    "1e3*((IL+IS)/2)"
   ]
  },
  {
   "cell_type": "markdown",
   "id": "7a1ae711",
   "metadata": {},
   "source": [
    "# VOH"
   ]
  },
  {
   "cell_type": "code",
   "execution_count": 14,
   "id": "c8049242",
   "metadata": {},
   "outputs": [
    {
     "name": "stdout",
     "output_type": "stream",
     "text": [
      "eq1:\n"
     ]
    },
    {
     "data": {
      "text/latex": [
       "$\\displaystyle 832.05 \\left(0.232558139534884 x - 1\\right)^{2} = 50 \\left(2 x - 1.0\\right) y{\\left(x \\right)} - 50 y^{2}{\\left(x \\right)}$"
      ],
      "text/plain": [
       "<IPython.core.display.Math object>"
      ]
     },
     "metadata": {},
     "output_type": "display_data"
    },
    {
     "data": {
      "text/latex": [
       "$\\displaystyle 45.0 x^{2} - 387.0 x + 832.05 = 100 x y{\\left(x \\right)} - 50 y^{2}{\\left(x \\right)} - 50.0 y{\\left(x \\right)}$"
      ],
      "text/plain": [
       "<IPython.core.display.Math object>"
      ]
     },
     "metadata": {},
     "output_type": "display_data"
    },
    {
     "data": {
      "text/latex": [
       "$\\displaystyle - 45.0 x^{2} + 100 x y{\\left(x \\right)} + 387.0 x - 50 y^{2}{\\left(x \\right)} - 50.0 y{\\left(x \\right)} - 832.05 = 0$"
      ],
      "text/plain": [
       "<IPython.core.display.Math object>"
      ]
     },
     "metadata": {},
     "output_type": "display_data"
    },
    {
     "name": "stdout",
     "output_type": "stream",
     "text": [
      "eq2:\n"
     ]
    },
    {
     "data": {
      "text/latex": [
       "$\\displaystyle 100 x \\frac{d}{d x} y{\\left(x \\right)} - 90.0 x - 100 y{\\left(x \\right)} \\frac{d}{d x} y{\\left(x \\right)} + 100 y{\\left(x \\right)} - 50.0 \\frac{d}{d x} y{\\left(x \\right)} + 387.0 = 0$"
      ],
      "text/plain": [
       "<IPython.core.display.Math object>"
      ]
     },
     "metadata": {},
     "output_type": "display_data"
    },
    {
     "data": {
      "text/latex": [
       "$\\displaystyle 90.0 x - 387.0 = - 100 x + 200 y{\\left(x \\right)} + 50.0$"
      ],
      "text/plain": [
       "<IPython.core.display.Math object>"
      ]
     },
     "metadata": {},
     "output_type": "display_data"
    },
    {
     "data": {
      "text/latex": [
       "$\\displaystyle x = 1.05263157894737 y{\\left(x \\right)} + 2.3$"
      ],
      "text/plain": [
       "<IPython.core.display.Math object>"
      ]
     },
     "metadata": {},
     "output_type": "display_data"
    },
    {
     "data": {
      "text/latex": [
       "$\\displaystyle \\left[ \\left( -70.2092190675599, \\  -68.8837581141819\\right), \\  \\left( 2.80921906755987, \\  0.483758114181873\\right)\\right]$"
      ],
      "text/plain": [
       "<IPython.core.display.Math object>"
      ]
     },
     "metadata": {},
     "output_type": "display_data"
    },
    {
     "name": "stdout",
     "output_type": "stream",
     "text": [
      "   x=-70.2092190675599 \n",
      " y=-68.8837581141819\n",
      "   x=2.80921906755987 \n",
      " y=0.483758114181873\n"
     ]
    },
    {
     "data": {
      "image/png": "[encoded data removed]",
      "text/latex": [
       "$\\displaystyle x - 4.3$"
      ],
      "text/plain": [
       "x - 4.3"
      ]
     },
     "execution_count": 14,
     "metadata": {},
     "output_type": "execute_result"
    }
   ],
   "source": [
    "x = sp.symbols('x')\n",
    "y = sp.Function('y')(x)\n",
    "vgp = x\n",
    "vsp = 5\n",
    "vdp = y\n",
    "\n",
    "vgn = x\n",
    "vsn = 0\n",
    "vdn = y\n",
    "kn = 50\n",
    "kp = 45\n",
    "vtn = 0.5\n",
    "vtp = -0.7\n",
    "ex1 = sat(kp,vtp, vgp, vsp, vdp )#pmos in linear\n",
    "ex2 = linear(kn, vtn, vgn, vsn, vdn)#nmos in saturation\n",
    "solve_in(ex1, ex2, x, y, show_way=True)\n",
    "(vgp-vsp-vtp)"
   ]
  },
  {
   "cell_type": "markdown",
   "id": "d27add2d",
   "metadata": {},
   "source": [
    "# VIL"
   ]
  },
  {
   "cell_type": "code",
   "execution_count": 15,
   "id": "976cb667",
   "metadata": {},
   "outputs": [
    {
     "name": "stdout",
     "output_type": "stream",
     "text": [
      "eq1:\n"
     ]
    },
    {
     "data": {
      "text/latex": [
       "$\\displaystyle 45 \\left(2 x - 8.6\\right) \\left(y{\\left(x \\right)} - 5\\right) - 45 \\left(y{\\left(x \\right)} - 5\\right)^{2} = 50 \\left(x - 0.5\\right)^{2}$"
      ],
      "text/plain": [
       "<IPython.core.display.Math object>"
      ]
     },
     "metadata": {},
     "output_type": "display_data"
    },
    {
     "data": {
      "text/latex": [
       "$\\displaystyle 90 x y{\\left(x \\right)} - 450 x - 45 y^{2}{\\left(x \\right)} + 63.0 y{\\left(x \\right)} + 810.0 = 50 x^{2} - 50.0 x + 12.5$"
      ],
      "text/plain": [
       "<IPython.core.display.Math object>"
      ]
     },
     "metadata": {},
     "output_type": "display_data"
    },
    {
     "data": {
      "text/latex": [
       "$\\displaystyle 50 x^{2} - 90 x y{\\left(x \\right)} + 400.0 x + 45 y^{2}{\\left(x \\right)} - 63.0 y{\\left(x \\right)} - 797.5 = 0$"
      ],
      "text/plain": [
       "<IPython.core.display.Math object>"
      ]
     },
     "metadata": {},
     "output_type": "display_data"
    },
    {
     "name": "stdout",
     "output_type": "stream",
     "text": [
      "eq2:\n"
     ]
    },
    {
     "data": {
      "text/latex": [
       "$\\displaystyle - 90 x \\frac{d}{d x} y{\\left(x \\right)} + 100 x + 90 y{\\left(x \\right)} \\frac{d}{d x} y{\\left(x \\right)} - 90 y{\\left(x \\right)} - 63.0 \\frac{d}{d x} y{\\left(x \\right)} + 400.0 = 0$"
      ],
      "text/plain": [
       "<IPython.core.display.Math object>"
      ]
     },
     "metadata": {},
     "output_type": "display_data"
    },
    {
     "data": {
      "text/latex": [
       "$\\displaystyle - 90 x + 180 y{\\left(x \\right)} - 513.0 = 100 x - 50.0$"
      ],
      "text/plain": [
       "<IPython.core.display.Math object>"
      ]
     },
     "metadata": {},
     "output_type": "display_data"
    },
    {
     "data": {
      "text/latex": [
       "$\\displaystyle x = 0.947368421052632 y{\\left(x \\right)} - 2.43684210526316$"
      ],
      "text/plain": [
       "<IPython.core.display.Math object>"
      ]
     },
     "metadata": {},
     "output_type": "display_data"
    },
    {
     "data": {
      "text/latex": [
       "$\\displaystyle \\left[ \\left( -69.2594667518465, \\  -70.5349926825046\\right), \\  \\left( 1.85946675184649, \\  4.53499268250462\\right)\\right]$"
      ],
      "text/plain": [
       "<IPython.core.display.Math object>"
      ]
     },
     "metadata": {},
     "output_type": "display_data"
    },
    {
     "name": "stdout",
     "output_type": "stream",
     "text": [
      "   x=-69.2594667518465 \n",
      " y=-70.5349926825046\n",
      "   x=1.85946675184649 \n",
      " y=4.53499268250462\n"
     ]
    },
    {
     "data": {
      "image/png": "[encoded data removed]",
      "text/latex": [
       "$\\displaystyle \\left[ \\left( -69.2594667518465, \\  -70.5349926825046\\right), \\  \\left( 1.85946675184649, \\  4.53499268250462\\right)\\right]$"
      ],
      "text/plain": [
       "[(-69.2594667518465, -70.5349926825046), (1.85946675184649, 4.53499268250462)]"
      ]
     },
     "execution_count": 15,
     "metadata": {},
     "output_type": "execute_result"
    }
   ],
   "source": [
    "x = sp.symbols('x')\n",
    "y = sp.Function('y')(x)\n",
    "vgp = x\n",
    "vsp = 5\n",
    "vdp = y\n",
    "\n",
    "vgn = x\n",
    "vsn = 0\n",
    "vdn = y\n",
    "kn = 50\n",
    "kp = 45\n",
    "vtn = 0.5\n",
    "vtp = -0.7\n",
    "ex1 = linear(kp,vtp, vgp, vsp, vdp )#pmos in linear\n",
    "ex2 = sat(kn, vtn, vgn, vsn, vdn)#nmos in saturation\n",
    "solve_in(ex1, ex2, x, y, show_way=True)"
   ]
  },
  {
   "cell_type": "markdown",
   "id": "609e74f7",
   "metadata": {},
   "source": [
    "# VM"
   ]
  },
  {
   "cell_type": "code",
   "execution_count": 86,
   "id": "0bfd3394",
   "metadata": {},
   "outputs": [
    {
     "data": {
      "text/latex": [
       "$\\displaystyle 832.05 \\left(0.232558139534884 x - 1\\right)^{2} = 50 \\left(x - 0.5\\right)^{2}$"
      ],
      "text/plain": [
       "<IPython.core.display.Math object>"
      ]
     },
     "metadata": {},
     "output_type": "display_data"
    },
    {
     "data": {
      "text/latex": [
       "$\\displaystyle - 5.00000000000001 x^{2} - 337.0 x + 819.55 = 0$"
      ],
      "text/plain": [
       "<IPython.core.display.Math object>"
      ]
     },
     "metadata": {},
     "output_type": "display_data"
    },
    {
     "data": {
      "text/latex": [
       "$\\displaystyle \\left[ -69.7499653259195, \\  2.34996532591952\\right]$"
      ],
      "text/plain": [
       "<IPython.core.display.Math object>"
      ]
     },
     "metadata": {},
     "output_type": "display_data"
    },
    {
     "name": "stdout",
     "output_type": "stream",
     "text": [
      "sol:-69.7499653259195\n",
      "sol:2.34996532591952\n"
     ]
    },
    {
     "data": {
      "image/png": "[encoded data removed]",
      "text/latex": [
       "$\\displaystyle \\left[ -69.7499653259195, \\  2.34996532591952\\right]$"
      ],
      "text/plain": [
       "[-69.7499653259195, 2.34996532591952]"
      ]
     },
     "execution_count": 86,
     "metadata": {},
     "output_type": "execute_result"
    }
   ],
   "source": [
    "x = sp.symbols('x')\n",
    "y = x\n",
    "vgp = x\n",
    "vsp = 5\n",
    "vdp = y\n",
    "\n",
    "vgn = x\n",
    "vsn = 0\n",
    "vdn = y\n",
    "kn = 50\n",
    "kp = 45\n",
    "vtn = 0.5\n",
    "vtp = -0.7\n",
    "ex1 = sat(kp,vtp, vgp, vsp, vdp )#pmos in linear\n",
    "ex2 = sat(kn, vtn, vgn, vsn, vdn)#nmos in saturation\n",
    "solve_vm(ex1, ex2, x, y, show_way=True)"
   ]
  },
  {
   "cell_type": "markdown",
   "id": "26cb82eb",
   "metadata": {},
   "source": [
    "# Question 3 part A"
   ]
  },
  {
   "cell_type": "markdown",
   "id": "82d6825f",
   "metadata": {},
   "source": [
    "## VOL -> vin=10v"
   ]
  },
  {
   "cell_type": "code",
   "execution_count": 107,
   "id": "61969cfa",
   "metadata": {},
   "outputs": [],
   "source": [
    "x = sp.symbols('x')\n",
    "y = sp.Function('y')(x)\n",
    "linear = lambda k,vt, vg, vs, vd: k*(2*(vg- vs -vt)*(vd-vs) -(vd-vs)**2)\n",
    "sat = lambda k, vt, vg, vs, vd: k*(vg-vs-vt)**2"
   ]
  },
  {
   "cell_type": "code",
   "execution_count": 108,
   "id": "02d7b24a",
   "metadata": {},
   "outputs": [],
   "source": [
    "x_val = 10\n",
    "x = x_val\n",
    "vg1 = x\n",
    "vs1 = 0\n",
    "vd1 = y\n",
    "\n",
    "vg2 = 10\n",
    "vs2 = y\n",
    "vd2 = 10"
   ]
  },
  {
   "cell_type": "code",
   "execution_count": 109,
   "id": "f9a634ad",
   "metadata": {},
   "outputs": [
    {
     "data": {
      "image/png": "[encoded data removed]",
      "text/latex": [
       "$\\displaystyle \\left[ 0.65220111558026, \\  16.9477988844197\\right]$"
      ],
      "text/plain": [
       "[0.65220111558026, 16.9477988844197]"
      ]
     },
     "execution_count": 109,
     "metadata": {},
     "output_type": "execute_result"
    }
   ],
   "source": [
    "k1 = 20\n",
    "k2 = 3.33\n",
    "vt = 1.2\n",
    "ex1 = linear(k1,vt, vg1, vs1, vd1 )#Q1\n",
    "ex2 = sat(k2, vt, vg2, vs2, vd2)#Q2\n",
    "sol = solve(ex1-ex2, y)\n",
    "# eqprint(ex1)\n",
    "# eqprint(ex2)\n",
    "y_val = sol[0]\n",
    "sol\n",
    "\n",
    "# solve_in(ex1, ex2, x, y, show_way=True)"
   ]
  },
  {
   "cell_type": "code",
   "execution_count": 113,
   "id": "77f61684",
   "metadata": {},
   "outputs": [
    {
     "name": "stdout",
     "output_type": "stream",
     "text": [
      "Q1 vgs:\n"
     ]
    },
    {
     "data": {
      "text/latex": [
       "$\\displaystyle 10$"
      ],
      "text/plain": [
       "<IPython.core.display.Math object>"
      ]
     },
     "metadata": {},
     "output_type": "display_data"
    },
    {
     "name": "stdout",
     "output_type": "stream",
     "text": [
      "Q1 vds:\n"
     ]
    },
    {
     "data": {
      "text/latex": [
       "$\\displaystyle y{\\left(x \\right)}$"
      ],
      "text/plain": [
       "<IPython.core.display.Math object>"
      ]
     },
     "metadata": {},
     "output_type": "display_data"
    },
    {
     "name": "stdout",
     "output_type": "stream",
     "text": [
      "Q1 vgs:\n",
      "\n"
     ]
    },
    {
     "data": {
      "text/latex": [
       "$\\displaystyle 10$"
      ],
      "text/plain": [
       "<IPython.core.display.Math object>"
      ]
     },
     "metadata": {},
     "output_type": "display_data"
    },
    {
     "name": "stdout",
     "output_type": "stream",
     "text": [
      "Q1 vds:\n",
      "\n"
     ]
    },
    {
     "data": {
      "text/latex": [
       "$\\displaystyle 0.65220111558026$"
      ],
      "text/plain": [
       "<IPython.core.display.Math object>"
      ]
     },
     "metadata": {},
     "output_type": "display_data"
    },
    {
     "name": "stdout",
     "output_type": "stream",
     "text": [
      "Q2 vgs:\n"
     ]
    },
    {
     "data": {
      "text/latex": [
       "$\\displaystyle 10 - y{\\left(x \\right)}$"
      ],
      "text/plain": [
       "<IPython.core.display.Math object>"
      ]
     },
     "metadata": {},
     "output_type": "display_data"
    },
    {
     "name": "stdout",
     "output_type": "stream",
     "text": [
      "Q2 vds:\n"
     ]
    },
    {
     "data": {
      "text/latex": [
       "$\\displaystyle 10 - y{\\left(x \\right)}$"
      ],
      "text/plain": [
       "<IPython.core.display.Math object>"
      ]
     },
     "metadata": {},
     "output_type": "display_data"
    },
    {
     "name": "stdout",
     "output_type": "stream",
     "text": [
      "Q2 vgs:\n",
      "\n"
     ]
    },
    {
     "data": {
      "text/latex": [
       "$\\displaystyle 9.34779888441974$"
      ],
      "text/plain": [
       "<IPython.core.display.Math object>"
      ]
     },
     "metadata": {},
     "output_type": "display_data"
    },
    {
     "name": "stdout",
     "output_type": "stream",
     "text": [
      "Q2 vds:\n",
      "\n"
     ]
    },
    {
     "data": {
      "text/latex": [
       "$\\displaystyle 9.34779888441974$"
      ],
      "text/plain": [
       "<IPython.core.display.Math object>"
      ]
     },
     "metadata": {},
     "output_type": "display_data"
    },
    {
     "name": "stdout",
     "output_type": "stream",
     "text": [
      "lin Sat\n"
     ]
    }
   ],
   "source": [
    "m1_state = mos_state(k1,vt, vg1, vs1, vd1, x, y, 10, y_val, name=\"Q1\") #mos1\n",
    "m2_state = mos_state(k2,vt, vg2, vs2, vd2, x, y, 10, y_val, name=\"Q2\") #mos2\n",
    "print(m1_state, m2_state)"
   ]
  },
  {
   "cell_type": "markdown",
   "id": "94925e38",
   "metadata": {},
   "source": [
    "\n",
    "## VOH"
   ]
  },
  {
   "cell_type": "code",
   "execution_count": 183,
   "id": "8199cf15",
   "metadata": {},
   "outputs": [
    {
     "data": {
      "text/latex": [
       "$\\displaystyle \\left[ 8.8\\right]$"
      ],
      "text/plain": [
       "<IPython.core.display.Math object>"
      ]
     },
     "metadata": {},
     "output_type": "display_data"
    },
    {
     "name": "stdout",
     "output_type": "stream",
     "text": [
      "Q2 vgs:\n"
     ]
    },
    {
     "data": {
      "text/latex": [
       "$\\displaystyle 10 - y{\\left(x \\right)}$"
      ],
      "text/plain": [
       "<IPython.core.display.Math object>"
      ]
     },
     "metadata": {},
     "output_type": "display_data"
    },
    {
     "name": "stdout",
     "output_type": "stream",
     "text": [
      "Q2 vds:\n"
     ]
    },
    {
     "data": {
      "text/latex": [
       "$\\displaystyle 10 - y{\\left(x \\right)}$"
      ],
      "text/plain": [
       "<IPython.core.display.Math object>"
      ]
     },
     "metadata": {},
     "output_type": "display_data"
    },
    {
     "name": "stdout",
     "output_type": "stream",
     "text": [
      "Q2 vgs:\n",
      "\n"
     ]
    },
    {
     "data": {
      "text/latex": [
       "$\\displaystyle 1.2$"
      ],
      "text/plain": [
       "<IPython.core.display.Math object>"
      ]
     },
     "metadata": {},
     "output_type": "display_data"
    },
    {
     "name": "stdout",
     "output_type": "stream",
     "text": [
      "Q2 vds:\n",
      "\n"
     ]
    },
    {
     "data": {
      "text/latex": [
       "$\\displaystyle 1.2$"
      ],
      "text/plain": [
       "<IPython.core.display.Math object>"
      ]
     },
     "metadata": {},
     "output_type": "display_data"
    },
    {
     "name": "stdout",
     "output_type": "stream",
     "text": [
      "cutoff Sat\n"
     ]
    }
   ],
   "source": [
    "x = sp.symbols('x')\n",
    "y = sp.Function('y')(x)\n",
    "linear = lambda k,vt, vg, vs, vd: k*(2*(vg- vs -vt)*(vd-vs) -(vd-vs)**2)\n",
    "sat = lambda k, vt, vg, vs, vd: k*(vg-vs-vt)**2\n",
    "x_val = 0\n",
    "x = x_val\n",
    "vg1 = x\n",
    "vs1 = 0\n",
    "vd1 = y\n",
    "\n",
    "vg2 = 10\n",
    "vs2 = y\n",
    "vd2 = 10\n",
    "k1 = 20\n",
    "k2 = 3.33\n",
    "vt = 1.2\n",
    "ex1 = cut(k1,vt, vg1, vs1, vd1 )#Q1\n",
    "ex2 = sat(k2, vt, vg2, vs2, vd2)#Q2\n",
    "sol = solve(ex1-ex2, y)\n",
    "y_val = sol[0]\n",
    "eqprint(sol)\n",
    "\n",
    "m1_state = mos_state(k1,vt, vg1, vs1, vd1, x, y, 10, y_val, name=\"Q1\",  show_way=False) #mos1\n",
    "m2_state = mos_state(k2,vt, vg2, vs2, vd2, x, y, 10, y_val, name=\"Q2\",  show_way=True) #mos2\n",
    "print(m1_state, m2_state)"
   ]
  },
  {
   "cell_type": "markdown",
   "id": "e398dbff",
   "metadata": {},
   "source": [
    "## VM"
   ]
  },
  {
   "cell_type": "code",
   "execution_count": 185,
   "id": "28538a1f",
   "metadata": {},
   "outputs": [
    {
     "data": {
      "text/latex": [
       "$\\displaystyle 28.8 \\left(0.833333333333333 x - 1\\right)^{2} = 257.8752 \\left(1 - 0.113636363636364 y{\\left(x \\right)}\\right)^{2}$"
      ],
      "text/plain": [
       "<IPython.core.display.Math object>"
      ]
     },
     "metadata": {},
     "output_type": "display_data"
    },
    {
     "data": {
      "text/latex": [
       "$\\displaystyle 28.8 \\left(0.833333333333333 x - 1\\right)^{2} = 257.8752 \\left(1 - 0.113636363636364 x\\right)^{2}$"
      ],
      "text/plain": [
       "<IPython.core.display.Math object>"
      ]
     },
     "metadata": {},
     "output_type": "display_data"
    },
    {
     "data": {
      "text/latex": [
       "$\\displaystyle 16.67 x^{2} + 10.608 x - 229.0752 = 0$"
      ],
      "text/plain": [
       "<IPython.core.display.Math object>"
      ]
     },
     "metadata": {},
     "output_type": "display_data"
    },
    {
     "data": {
      "text/latex": [
       "$\\displaystyle \\left[ -4.03879457227556, \\  3.40244184282145\\right]$"
      ],
      "text/plain": [
       "<IPython.core.display.Math object>"
      ]
     },
     "metadata": {},
     "output_type": "display_data"
    },
    {
     "name": "stdout",
     "output_type": "stream",
     "text": [
      "sol:-4.03879457227556\n",
      "sol:3.40244184282145\n",
      "Q1 vgs:\n"
     ]
    },
    {
     "data": {
      "text/latex": [
       "$\\displaystyle x$"
      ],
      "text/plain": [
       "<IPython.core.display.Math object>"
      ]
     },
     "metadata": {},
     "output_type": "display_data"
    },
    {
     "name": "stdout",
     "output_type": "stream",
     "text": [
      "Q1 vds:\n"
     ]
    },
    {
     "data": {
      "text/latex": [
       "$\\displaystyle y{\\left(x \\right)}$"
      ],
      "text/plain": [
       "<IPython.core.display.Math object>"
      ]
     },
     "metadata": {},
     "output_type": "display_data"
    },
    {
     "name": "stdout",
     "output_type": "stream",
     "text": [
      "Q1 vgs:\n",
      "\n"
     ]
    },
    {
     "data": {
      "text/latex": [
       "$\\displaystyle 3.40244184282145$"
      ],
      "text/plain": [
       "<IPython.core.display.Math object>"
      ]
     },
     "metadata": {},
     "output_type": "display_data"
    },
    {
     "name": "stdout",
     "output_type": "stream",
     "text": [
      "Q1 vds:\n",
      "\n"
     ]
    },
    {
     "data": {
      "text/latex": [
       "$\\displaystyle 3.40244184282145$"
      ],
      "text/plain": [
       "<IPython.core.display.Math object>"
      ]
     },
     "metadata": {},
     "output_type": "display_data"
    },
    {
     "name": "stdout",
     "output_type": "stream",
     "text": [
      "Q2 vgs:\n"
     ]
    },
    {
     "data": {
      "text/latex": [
       "$\\displaystyle 10 - y{\\left(x \\right)}$"
      ],
      "text/plain": [
       "<IPython.core.display.Math object>"
      ]
     },
     "metadata": {},
     "output_type": "display_data"
    },
    {
     "name": "stdout",
     "output_type": "stream",
     "text": [
      "Q2 vds:\n"
     ]
    },
    {
     "data": {
      "text/latex": [
       "$\\displaystyle 10 - y{\\left(x \\right)}$"
      ],
      "text/plain": [
       "<IPython.core.display.Math object>"
      ]
     },
     "metadata": {},
     "output_type": "display_data"
    },
    {
     "name": "stdout",
     "output_type": "stream",
     "text": [
      "Q2 vgs:\n",
      "\n"
     ]
    },
    {
     "data": {
      "text/latex": [
       "$\\displaystyle 6.59755815717855$"
      ],
      "text/plain": [
       "<IPython.core.display.Math object>"
      ]
     },
     "metadata": {},
     "output_type": "display_data"
    },
    {
     "name": "stdout",
     "output_type": "stream",
     "text": [
      "Q2 vds:\n",
      "\n"
     ]
    },
    {
     "data": {
      "text/latex": [
       "$\\displaystyle 6.59755815717855$"
      ],
      "text/plain": [
       "<IPython.core.display.Math object>"
      ]
     },
     "metadata": {},
     "output_type": "display_data"
    },
    {
     "name": "stdout",
     "output_type": "stream",
     "text": [
      "Sat Sat\n"
     ]
    }
   ],
   "source": [
    "x = sp.symbols('x')\n",
    "y = sp.Function('y')(x)\n",
    "linear = lambda k,vt, vg, vs, vd: k*(2*(vg- vs -vt)*(vd-vs) -(vd-vs)**2)\n",
    "sat = lambda k, vt, vg, vs, vd: k*(vg-vs-vt)**2\n",
    "vg1 = x\n",
    "vs1 = 0\n",
    "vd1 = y\n",
    "vg2 = 10\n",
    "vs2 = y\n",
    "vd2 = 10\n",
    "k1 = 20\n",
    "k2 = 3.33\n",
    "vt = 1.2\n",
    "\n",
    "ex1 = sat(k1,vt, vg1, vs1, vd1 )#Q1\n",
    "ex2 = sat(k2, vt, vg2, vs2, vd2)#Q2\n",
    "sol = solve_vm(ex1, ex2, x, y, show_way=True)\n",
    "y_val = sol[1]\n",
    "x_val = y_val\n",
    "m1_state = mos_state(k1,vt, vg1, vs1, vd1, x, y, x_val, y_val, name=\"Q1\", show_way=True) #mos1\n",
    "m2_state = mos_state(k2,vt, vg2, vs2, vd2, x, y, x_val, y_val, name=\"Q2\", show_way=True) #mos2\n",
    "print(m1_state, m2_state)"
   ]
  },
  {
   "cell_type": "markdown",
   "id": "338c1fc1",
   "metadata": {},
   "source": [
    "## VIL"
   ]
  },
  {
   "cell_type": "code",
   "execution_count": 195,
   "id": "4dbf7d30",
   "metadata": {},
   "outputs": [
    {
     "name": "stdout",
     "output_type": "stream",
     "text": [
      "eq1:\n"
     ]
    },
    {
     "data": {
      "text/latex": [
       "$\\displaystyle 28.8 \\left(0.833333333333333 x - 1\\right)^{2} = 257.8752 \\left(1 - 0.113636363636364 y{\\left(x \\right)}\\right)^{2}$"
      ],
      "text/plain": [
       "<IPython.core.display.Math object>"
      ]
     },
     "metadata": {},
     "output_type": "display_data"
    },
    {
     "data": {
      "text/latex": [
       "$\\displaystyle 20.0 x^{2} - 48.0 x + 28.8 = 3.33 y^{2}{\\left(x \\right)} - 58.608 y{\\left(x \\right)} + 257.8752$"
      ],
      "text/plain": [
       "<IPython.core.display.Math object>"
      ]
     },
     "metadata": {},
     "output_type": "display_data"
    },
    {
     "data": {
      "text/latex": [
       "$\\displaystyle - 20.0 x^{2} + 48.0 x + 3.33 y^{2}{\\left(x \\right)} - 58.608 y{\\left(x \\right)} + 229.0752 = 0$"
      ],
      "text/plain": [
       "<IPython.core.display.Math object>"
      ]
     },
     "metadata": {},
     "output_type": "display_data"
    },
    {
     "name": "stdout",
     "output_type": "stream",
     "text": [
      "eq2:\n"
     ]
    },
    {
     "data": {
      "text/latex": [
       "$\\displaystyle - 40.0 x + 6.66 y{\\left(x \\right)} \\frac{d}{d x} y{\\left(x \\right)} - 58.608 \\frac{d}{d x} y{\\left(x \\right)} + 48.0 = 0$"
      ],
      "text/plain": [
       "<IPython.core.display.Math object>"
      ]
     },
     "metadata": {},
     "output_type": "display_data"
    },
    {
     "data": {
      "text/latex": [
       "$\\displaystyle 40.0 x - 48.0 = 58.608 - 6.66 y{\\left(x \\right)}$"
      ],
      "text/plain": [
       "<IPython.core.display.Math object>"
      ]
     },
     "metadata": {},
     "output_type": "display_data"
    },
    {
     "data": {
      "text/latex": [
       "$\\displaystyle x = 2.6652 - 0.1665 y{\\left(x \\right)}$"
      ],
      "text/plain": [
       "<IPython.core.display.Math object>"
      ]
     },
     "metadata": {},
     "output_type": "display_data"
    },
    {
     "data": {
      "text/latex": [
       "$\\displaystyle \\left[ \\left( 1.2, \\  8.8\\right)\\right]$"
      ],
      "text/plain": [
       "<IPython.core.display.Math object>"
      ]
     },
     "metadata": {},
     "output_type": "display_data"
    },
    {
     "name": "stdout",
     "output_type": "stream",
     "text": [
      "   x=1.20000000000000 \n",
      " y=8.80000000000000\n",
      "Sat Sat\n"
     ]
    }
   ],
   "source": [
    "x = sp.symbols('x')\n",
    "y = sp.Function('y')(x)\n",
    "linear = lambda k,vt, vg, vs, vd: k*(2*(vg- vs -vt)*(vd-vs) -(vd-vs)**2)\n",
    "sat = lambda k, vt, vg, vs, vd: k*(vg-vs-vt)**2\n",
    "vg1 = x\n",
    "vs1 = 0\n",
    "vd1 = y\n",
    "vg2 = 10\n",
    "vs2 = y\n",
    "vd2 = 10\n",
    "k1 = 20\n",
    "k2 = 3.33\n",
    "vt = 1.2\n",
    "\n",
    "ex1 = sat(k1,vt, vg1, vs1, vd1 )#Q1\n",
    "ex2 = sat(k2, vt, vg2, vs2, vd2)#Q2\n",
    "sol = solve_in(ex1, ex2, x, y, show_way=True)\n",
    "try:\n",
    "    x_val, y_val = sol[0]\n",
    "    m1_state = mos_state(k1,vt, vg1, vs1, vd1, x, y, x_val, y_val, name=\"Q1\", show_way=False) #mos1\n",
    "    m2_state = mos_state(k2,vt, vg2, vs2, vd2, x, y, x_val, y_val, name=\"Q2\", show_way=False) #mos2\n",
    "    print(m1_state, m2_state)\n",
    "except:\n",
    "    pass"
   ]
  },
  {
   "cell_type": "markdown",
   "id": "a6c3b12b",
   "metadata": {},
   "source": [
    "## VIH"
   ]
  },
  {
   "cell_type": "code",
   "execution_count": 202,
   "id": "9d4204ce",
   "metadata": {},
   "outputs": [
    {
     "name": "stdout",
     "output_type": "stream",
     "text": [
      "eq1:\n"
     ]
    },
    {
     "data": {
      "text/latex": [
       "$\\displaystyle 20 \\left(2 x - 2.4\\right) y{\\left(x \\right)} - 20 y^{2}{\\left(x \\right)} = 257.8752 \\left(1 - 0.113636363636364 y{\\left(x \\right)}\\right)^{2}$"
      ],
      "text/plain": [
       "<IPython.core.display.Math object>"
      ]
     },
     "metadata": {},
     "output_type": "display_data"
    },
    {
     "data": {
      "text/latex": [
       "$\\displaystyle 40 x y{\\left(x \\right)} - 20 y^{2}{\\left(x \\right)} - 48.0 y{\\left(x \\right)} = 3.33 y^{2}{\\left(x \\right)} - 58.608 y{\\left(x \\right)} + 257.8752$"
      ],
      "text/plain": [
       "<IPython.core.display.Math object>"
      ]
     },
     "metadata": {},
     "output_type": "display_data"
    },
    {
     "data": {
      "text/latex": [
       "$\\displaystyle - 40 x y{\\left(x \\right)} + 23.33 y^{2}{\\left(x \\right)} - 10.608 y{\\left(x \\right)} + 257.8752 = 0$"
      ],
      "text/plain": [
       "<IPython.core.display.Math object>"
      ]
     },
     "metadata": {},
     "output_type": "display_data"
    },
    {
     "name": "stdout",
     "output_type": "stream",
     "text": [
      "eq2:\n"
     ]
    },
    {
     "data": {
      "text/latex": [
       "$\\displaystyle - 40 x \\frac{d}{d x} y{\\left(x \\right)} + 46.66 y{\\left(x \\right)} \\frac{d}{d x} y{\\left(x \\right)} - 40 y{\\left(x \\right)} - 10.608 \\frac{d}{d x} y{\\left(x \\right)} = 0$"
      ],
      "text/plain": [
       "<IPython.core.display.Math object>"
      ]
     },
     "metadata": {},
     "output_type": "display_data"
    },
    {
     "data": {
      "text/latex": [
       "$\\displaystyle - 40 x + 80 y{\\left(x \\right)} + 48.0 = 58.608 - 6.66 y{\\left(x \\right)}$"
      ],
      "text/plain": [
       "<IPython.core.display.Math object>"
      ]
     },
     "metadata": {},
     "output_type": "display_data"
    },
    {
     "data": {
      "text/latex": [
       "$\\displaystyle x = 2.1665 y{\\left(x \\right)} - 0.2652$"
      ],
      "text/plain": [
       "<IPython.core.display.Math object>"
      ]
     },
     "metadata": {},
     "output_type": "display_data"
    },
    {
     "data": {
      "text/latex": [
       "$\\displaystyle \\left[ \\left( -4.636984422431, \\  -2.01790187972813\\right), \\  \\left( 4.106584422431, \\  2.01790187972813\\right)\\right]$"
      ],
      "text/plain": [
       "<IPython.core.display.Math object>"
      ]
     },
     "metadata": {},
     "output_type": "display_data"
    },
    {
     "name": "stdout",
     "output_type": "stream",
     "text": [
      "   x=-4.63698442243100 \n",
      " y=-2.01790187972813\n",
      "   x=4.10658442243100 \n",
      " y=2.01790187972813\n",
      "lin Sat\n"
     ]
    }
   ],
   "source": [
    "x = sp.symbols('x')\n",
    "y = sp.Function('y')(x)\n",
    "linear = lambda k,vt, vg, vs, vd: k*(2*(vg- vs -vt)*(vd-vs) -(vd-vs)**2)\n",
    "sat = lambda k, vt, vg, vs, vd: k*(vg-vs-vt)**2\n",
    "vg1 = x\n",
    "vs1 = 0\n",
    "vd1 = y\n",
    "vg2 = 10\n",
    "vs2 = y\n",
    "vd2 = 10\n",
    "k1 = 20\n",
    "k2 = 3.33\n",
    "vt = 1.2\n",
    "\n",
    "ex1 = linear(k1,vt, vg1, vs1, vd1 )#Q1\n",
    "ex2 = sat(k2, vt, vg2, vs2, vd2)#Q2\n",
    "sol = solve_in(ex1, ex2, x, y, show_way=True)\n",
    "try:\n",
    "    x_val, y_val = sol[1]\n",
    "    m1_state = mos_state(k1,vt, vg1, vs1, vd1, x, y, x_val, y_val, name=\"Q1\", show_way=False) #mos1\n",
    "    m2_state = mos_state(k2,vt, vg2, vs2, vd2, x, y, x_val, y_val, name=\"Q2\", show_way=False) #mos2\n",
    "    print(m1_state, m2_state)\n",
    "except:\n",
    "    pass"
   ]
  },
  {
   "cell_type": "code",
   "execution_count": null,
   "id": "9ffe3404",
   "metadata": {},
   "outputs": [],
   "source": []
  }
 ],
 "metadata": {
  "kernelspec": {
   "display_name": "Python 3 (ipykernel)",
   "language": "python",
   "name": "python3"
  },
  "language_info": {
   "codemirror_mode": {
    "name": "ipython",
    "version": 3
   },
   "file_extension": ".py",
   "mimetype": "text/x-python",
   "name": "python",
   "nbconvert_exporter": "python",
   "pygments_lexer": "ipython3",
   "version": "3.9.7"
  }
 },
 "nbformat": 4,
 "nbformat_minor": 5
}
